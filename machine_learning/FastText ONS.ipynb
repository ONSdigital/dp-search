{
 "cells": [
  {
   "cell_type": "markdown",
   "metadata": {},
   "source": [
    "# Supervised Learning of Keywords using fastText\n",
    "## Text Classification\n",
    "The goal of text classification is to assign documents (such as emails, posts, text messages, product reviews, etc...) to one or multiple categories. Such categories can be review scores, spam v.s. non-spam, or the language in which the document was typed. Nowadays, the dominant approach to build such classifiers is machine learning, that is learning classification rules from examples. In order to build such classifiers, we need labeled data, which consists of documents and their corresponding categories (or tags, or labels).\n",
    "\n",
    "As an example, we build a classifier which automatically classifies ONS publications by their supplied keywords."
   ]
  },
  {
   "cell_type": "code",
   "execution_count": 5,
   "metadata": {
    "collapsed": true
   },
   "outputs": [],
   "source": [
    "import fastText\n",
    "import gensim\n",
    "import os"
   ]
  },
  {
   "cell_type": "code",
   "execution_count": 6,
   "metadata": {
    "collapsed": true
   },
   "outputs": [],
   "source": [
    "if os.path.isdir(\"./models/\") is False:\n",
    "    !mkdir models"
   ]
  },
  {
   "cell_type": "markdown",
   "metadata": {},
   "source": [
    "# Corpa\n",
    "To create the text corpus, we load in articles and bulletins published on the ONS website. The final corpus consists of sentences found in the pages summaries and markdown sections, tagged by the keywords provided with each page.\n",
    "\n",
    "For the purpose of this notebook, we have stored all artices and bulletins in a local mongoDB database for painless retrieval. Lets define some functions for loading the pages as json below."
   ]
  },
  {
   "cell_type": "code",
   "execution_count": 7,
   "metadata": {
    "collapsed": true
   },
   "outputs": [],
   "source": [
    "def getMongoDBClient(mongoUrl, port):\n",
    "    from pymongo import MongoClient\n",
    "    return MongoClient(mongoUrl, port)\n",
    "\n",
    "def load_pages(use_mongo=True):\n",
    "    # Load pages from disk/mongo\n",
    "    pages = None\n",
    "    print \"Loading pages from \" + \"mongoDB\" if use_mongo else \"filesystem\"\n",
    "    if (use_mongo):\n",
    "        mongoClient = getMongoDBClient(\"localhost\", 27017)\n",
    "        collection = mongoClient.local.pages\n",
    "\n",
    "        query = {\n",
    "            \"sections\": {\n",
    "                \"$exists\": True\n",
    "            }\n",
    "        }\n",
    "        cursor = collection.find(query)\n",
    "\n",
    "        pages = []\n",
    "        for doc in cursor:\n",
    "            pages.append(doc)\n",
    "    else:\n",
    "        # Read from filesystem\n",
    "        from modules.ONS.file_scanner import FileScanner\n",
    "        scanner = FileScanner()\n",
    "        pages = scanner.load_pages()\n",
    "    print \"Done\"\n",
    "    return pages"
   ]
  },
  {
   "cell_type": "code",
   "execution_count": 8,
   "metadata": {},
   "outputs": [
    {
     "name": "stdout",
     "output_type": "stream",
     "text": [
      "Loading pages from mongoDB\n",
      "Done\n",
      "Loaded 1960 pages\n"
     ]
    }
   ],
   "source": [
    "pages = load_pages(use_mongo=True)\n",
    "print \"Loaded %d pages\" % (len(pages))"
   ]
  },
  {
   "cell_type": "markdown",
   "metadata": {},
   "source": [
    "# Test processing\n",
    "To give our model the best chance of accurate classifications, we should clean up the raw text keywords to remove things like stop words etc. Below we define some basic utility functions to clean raw text, then process the pages we just loaded in."
   ]
  },
  {
   "cell_type": "code",
   "execution_count": 34,
   "metadata": {
    "collapsed": true
   },
   "outputs": [],
   "source": [
    "from gensim.utils import lemmatize\n",
    "from nltk.corpus import stopwords\n",
    "\n",
    "def get_stopwords():\n",
    "    return set(stopwords.words('english'))  # nltk stopwords list\n",
    "\n",
    "def get_bigram(train_texts):\n",
    "    import gensim\n",
    "    bigram = gensim.models.Phrases(train_texts)  # for bigram collocation detection\n",
    "    return bigram\n",
    "\n",
    "def build_texts_from_file(fname):\n",
    "    import gensim\n",
    "    \"\"\"\n",
    "    Function to build tokenized texts from file\n",
    "    \n",
    "    Parameters:\n",
    "    ----------\n",
    "    fname: File to be read\n",
    "    \n",
    "    Returns:\n",
    "    -------\n",
    "    yields preprocessed line\n",
    "    \"\"\"\n",
    "    with open(fname) as f:\n",
    "        for line in f:\n",
    "            yield gensim.utils.simple_preprocess(line, deacc=True, min_len=3)\n",
    "\n",
    "def build_texts_as_list_from_file(fname):\n",
    "    return list(build_texts_from_file(fname))\n",
    "\n",
    "def build_texts(texts):\n",
    "    import gensim\n",
    "    \"\"\"\n",
    "    Function to build tokenized texts from file\n",
    "    \n",
    "    Parameters:\n",
    "    ----------\n",
    "    fname: File to be read\n",
    "    \n",
    "    Returns:\n",
    "    -------\n",
    "    yields preprocessed line\n",
    "    \"\"\"\n",
    "    for line in texts:\n",
    "        yield gensim.utils.simple_preprocess(line, deacc=True, min_len=3)\n",
    "\n",
    "def build_texts_as_list(texts):\n",
    "    return list(build_texts(texts))\n",
    "\n",
    "def process_texts(texts, stops=get_stopwords()):\n",
    "    \"\"\"\n",
    "    Function to process texts. Following are the steps we take:\n",
    "    \n",
    "    1. Stopword Removal.\n",
    "    2. Collocation detection.\n",
    "    3. Lemmatization (not stem since stemming can reduce the interpretability).\n",
    "    \n",
    "    Parameters:\n",
    "    ----------\n",
    "    texts: Tokenized texts.\n",
    "    \n",
    "    Returns:\n",
    "    -------\n",
    "    texts: Pre-processed tokenized texts.\n",
    "    \"\"\"\n",
    "    bigram = get_bigram(texts)\n",
    "\n",
    "    texts = [[word for word in line if word not in stops] for line in texts]\n",
    "    texts = [bigram[line] for line in texts]\n",
    "    \n",
    "    from nltk.stem import WordNetLemmatizer\n",
    "    lemmatizer = WordNetLemmatizer()\n",
    "\n",
    "    texts = [[word for word in lemmatizer.lemmatize(' '.join(line), pos='v').split()] for line in texts]\n",
    "    return texts"
   ]
  },
  {
   "cell_type": "code",
   "execution_count": 23,
   "metadata": {},
   "outputs": [
    {
     "name": "stdout",
     "output_type": "stream",
     "text": [
      "1787\n"
     ]
    }
   ],
   "source": [
    "import markdown, re\n",
    "from string import punctuation\n",
    "from bs4 import BeautifulSoup\n",
    "from nltk.tokenize import sent_tokenize\n",
    "\n",
    "delimiter = \",\"\n",
    "pattern = \"[, \\-!?:]+\"\n",
    "\n",
    "def markdown_to_text(md):\n",
    "    extensions = ['extra', 'smarty']\n",
    "    html = markdown.markdown(md, extensions=extensions, output_format='html5')\n",
    "    soup = BeautifulSoup(html, \"lxml\")\n",
    "    return soup.text\n",
    "\n",
    "def process(text):\n",
    "    content = []\n",
    "    if len(text) > 0:\n",
    "        sentences = sent_tokenize(text)\n",
    "        for sentence in sentences:\n",
    "            if (len(filter(None, re.split(pattern, sentence))) > 10):\n",
    "                content.append(fix_encoding(sentence.encode(\"utf-8\").strip()))\n",
    "    return content\n",
    "\n",
    "def parse_page(page):\n",
    "    description = page[\"description\"]\n",
    "    keywords = description[\"keywords\"]\n",
    "                   \n",
    "    sentences = []\n",
    "    if \"summary\" in description:\n",
    "        sentences.extend(process(description[\"summary\"]))\n",
    "    if \"sections\" in page:\n",
    "        for section in page[\"sections\"]:\n",
    "            if \"markdown\" in section:\n",
    "                markdown = section[\"markdown\"]\n",
    "                text = markdown_to_text(markdown)\n",
    "                sentences.extend(process(text))\n",
    "                   \n",
    "    # Collect list of unique, clean keywords\n",
    "    labels = []\n",
    "    for entry in keywords:\n",
    "        entry = entry.strip().lower()\n",
    "        # Replace spaces in keywords with '_', so the classifier identifies them as a single 'word'\n",
    "        entry = re.sub( '\\s+', '_', entry )\n",
    "        labels.append(entry)\n",
    "    \n",
    "    if len(labels) > 0 and len(sentences) > 0:\n",
    "        return {\"sentences\": sentences, \"labels\": labels}\n",
    "    else:\n",
    "        return None\n",
    "\n",
    "data = []\n",
    "for page in pages:\n",
    "    if \"description\" in page and \"keywords\" in page[\"description\"] and len(page[\"description\"][\"keywords\"]) > 0:\n",
    "        d = parse_page(page)\n",
    "        if d is not None:\n",
    "            data.append(d)\n",
    "\n",
    "print len(data)"
   ]
  },
  {
   "cell_type": "markdown",
   "metadata": {},
   "source": [
    "# Writing the training set\n",
    "The final step is to write the training data out in the correct format. We prepend a prefix to each label, so the classifier knows how to identify them aside from the raw text corpus."
   ]
  },
  {
   "cell_type": "code",
   "execution_count": 26,
   "metadata": {
    "collapsed": true
   },
   "outputs": [],
   "source": [
    "def label_sentences(sentences, labels, label_prefix=\"__label__\"):\n",
    "    # Clean up the labels by removing stop words etc.\n",
    "    labels = build_texts_as_list(labels)\n",
    "    # Filter out empty keywords\n",
    "    labels = filter(None, process_texts(labels, stops=stops))\n",
    "    \n",
    "    labels = set( [\"%s%s\" % (label_prefix, l[0]) for l in labels] )\n",
    "    joined_labels = \" \".join(labels)\n",
    "    \n",
    "    labelled_sentences = []\n",
    "    for sentence in sentences:\n",
    "        labelled_sentences.append( \"%s %s\" % (joined_labels, sentence) )\n",
    "\n",
    "    return labelled_sentences\n",
    "\n",
    "lines = []\n",
    "for i in range(len(data)):\n",
    "    d = data[i]\n",
    "    sentences = d[\"sentences\"]\n",
    "    labels = d[\"labels\"]\n",
    "    labelled_sentences = label_sentences(sentences, labels)\n",
    "    lines.extend(labelled_sentences)\n",
    "    \n",
    "# Shuffle the list\n",
    "import random\n",
    "random.shuffle(lines)"
   ]
  },
  {
   "cell_type": "code",
   "execution_count": 27,
   "metadata": {},
   "outputs": [
    {
     "name": "stdout",
     "output_type": "stream",
     "text": [
      "__label__uk_economy __label__economic_growth __label__ios The contribution an industry grouping makes to the GDP quarterly growth is dependent on the quarterly change in that industry grouping and its weight within the output approach to measuring GDP.\n"
     ]
    }
   ],
   "source": [
    "corpus_fname = \"ons_labelled_corpus.txt\"\n",
    "\n",
    "print lines[0]"
   ]
  },
  {
   "cell_type": "markdown",
   "metadata": {},
   "source": [
    "# Training and Validation Data\n",
    "In order to test the accuracy of our model, we purposely keep part of the training data back as a validation dataset by splitting the corpus into two files, with extendions \".train\" and \".valid\"."
   ]
  },
  {
   "cell_type": "code",
   "execution_count": 56,
   "metadata": {
    "collapsed": true
   },
   "outputs": [],
   "source": [
    "import numpy as np\n",
    "\n",
    "def write_corpus(corpus, fname):\n",
    "    \"\"\"\n",
    "    Splits the corpus into training (.train) and validation (.valid) datasets\n",
    "    \"\"\"\n",
    "    random.shuffle(corpus)\n",
    "    \n",
    "    size_train = int(np.round(len(corpus) * (3./4.)))\n",
    "    train_corpus = corpus[:size_train]\n",
    "    valid_corpus = corpus[size_train:]\n",
    "    \n",
    "    fnames = [\"%s.%s\" % (fname, ext) for ext in [\"train\", \"valid\"]]\n",
    "    corpa = [train_corpus, valid_corpus]\n",
    "    \n",
    "    for fname, corpus in zip(fnames, corpa):\n",
    "        with open(fname, \"w\") as f:\n",
    "            for line in corpus:\n",
    "                if len(line) > 0:\n",
    "                    s = re.sub( '\\s+', ' ', line.encode(\"ascii\", \"ignore\") ).strip()\n",
    "                    f.write(\"%s\\n\" % s)\n",
    "\n",
    "# if os.path.isfile(corpus_fname) is False:\n",
    "write_corpus(lines, corpus_fname)"
   ]
  },
  {
   "cell_type": "code",
   "execution_count": 62,
   "metadata": {},
   "outputs": [
    {
     "name": "stdout",
     "output_type": "stream",
     "text": [
      "Training\n",
      "Done\n"
     ]
    }
   ],
   "source": [
    "# Train the model\n",
    "print \"Training\"\n",
    "fastText.train_supervised(input=\"%s.train\" % corpus_fname, label=\"__label__\",\\\n",
    "                          epoch=50, lr=1.0, wordNgrams=3, verbose=2, minCount=15,\\\n",
    "                          minCountLabel=15, thread=12)\n",
    "print \"Done\""
   ]
  },
  {
   "cell_type": "markdown",
   "metadata": {},
   "source": [
    "# Testing\n",
    "To test the model, we use the validation training set to try and predict the top 'k' labels. The output of the below test are the precision at k=1 (P@1) and the recall at k=1 (R@1):"
   ]
  },
  {
   "cell_type": "code",
   "execution_count": 70,
   "metadata": {},
   "outputs": [
    {
     "name": "stdout",
     "output_type": "stream",
     "text": [
      "Total number of samples= 52293\n",
      "P@1= 0.875451781309\n",
      "R@1= 0.266093173298\n"
     ]
    }
   ],
   "source": [
    "# Test the model\n",
    "k=1\n",
    "N, P, R = model.test(\"%s.valid\" % corpus_fname, k)\n",
    "print \"Total number of samples=\", N\n",
    "print \"P@%d=\" % k, P\n",
    "print \"R@%d=\" % k, R"
   ]
  },
  {
   "cell_type": "markdown",
   "metadata": {},
   "source": [
    "We can also compute the precision at five and recall at k=5 with:"
   ]
  },
  {
   "cell_type": "code",
   "execution_count": 68,
   "metadata": {},
   "outputs": [
    {
     "data": {
      "text/plain": [
       "(52293L, 0.5675343802000651, 0.8623441541457177)"
      ]
     },
     "execution_count": 68,
     "metadata": {},
     "output_type": "execute_result"
    }
   ],
   "source": [
    "# Test the model\n",
    "k=5\n",
    "N, P, R = model.test(\"%s.valid\" % corpus_fname, k)\n",
    "print \"Total number of samples=\", N\n",
    "print \"P@%d=\" % k, P\n",
    "print \"R@%d=\" % k, R"
   ]
  },
  {
   "cell_type": "code",
   "execution_count": 66,
   "metadata": {},
   "outputs": [
    {
     "name": "stdout",
     "output_type": "stream",
     "text": [
      "output:0.383827\n",
      "gdp:0.151357\n",
      "economy:0.110083\n",
      "gva:0.082442\n",
      "wag:0.053614\n",
      "production:0.049128\n",
      "labour:0.041693\n",
      "oecd:0.030988\n",
      "export:0.021592\n",
      "annual:0.013797\n"
     ]
    }
   ],
   "source": [
    "# Example output\n",
    "model.save_model(\"models/ons_supervised.bin\")\n",
    "k = 10\n",
    "label_prefix = \"__label__\"\n",
    "labels, probs = model.predict(\"UKs shortfall to Germany\", k)\n",
    "for label,prob in zip(labels, probs):\n",
    "    print \"%s:%f\" % (label.replace(label_prefix, \"\"), prob)"
   ]
  },
  {
   "cell_type": "markdown",
   "metadata": {},
   "source": [
    "# Conclusions\n",
    "In this notebook, we have successfully trained a model which can predict ONS keywords from raw text, using published articles and bulletins for supervised training. Such a model can be used to recommend keywords based on raw, human written, text input or even classify search terms into keyword categories."
   ]
  },
  {
   "cell_type": "code",
   "execution_count": null,
   "metadata": {
    "collapsed": true
   },
   "outputs": [],
   "source": []
  }
 ],
 "metadata": {
  "kernelspec": {
   "display_name": "Python 2",
   "language": "python",
   "name": "python2"
  },
  "language_info": {
   "codemirror_mode": {
    "name": "ipython",
    "version": 2
   },
   "file_extension": ".py",
   "mimetype": "text/x-python",
   "name": "python",
   "nbconvert_exporter": "python",
   "pygments_lexer": "ipython2",
   "version": "2.7.14"
  }
 },
 "nbformat": 4,
 "nbformat_minor": 2
}
