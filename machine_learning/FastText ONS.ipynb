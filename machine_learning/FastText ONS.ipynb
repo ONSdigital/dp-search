{
 "cells": [
  {
   "cell_type": "markdown",
   "metadata": {},
   "source": [
    "# Supervised Learning of Keywords using fastText\n",
    "## Text Classification\n",
    "The goal of text classification is to assign documents (such as emails, posts, text messages, product reviews, etc...) to one or multiple categories. Such categories can be review scores, spam v.s. non-spam, or the language in which the document was typed. Nowadays, the dominant approach to build such classifiers is machine learning, that is learning classification rules from examples. In order to build such classifiers, we need labeled data, which consists of documents and their corresponding categories (or tags, or labels).\n",
    "\n",
    "As an example, we build a classifier which automatically classifies ONS publications by their supplied keywords."
   ]
  },
  {
   "cell_type": "code",
   "execution_count": 1,
   "metadata": {
    "collapsed": true
   },
   "outputs": [],
   "source": [
    "import fastText\n",
    "import gensim\n",
    "import os"
   ]
  },
  {
   "cell_type": "code",
   "execution_count": 2,
   "metadata": {
    "collapsed": true
   },
   "outputs": [],
   "source": [
    "if os.path.isdir(\"./models/\") is False:\n",
    "    !mkdir models"
   ]
  },
  {
   "cell_type": "markdown",
   "metadata": {},
   "source": [
    "# Corpa\n",
    "To create the text corpus, we load in articles and bulletins published on the ONS website. The final corpus consists of sentences found in the pages summaries and markdown sections, tagged by the keywords provided with each page.\n",
    "\n",
    "For the purpose of this notebook, we have stored all artices and bulletins in a local mongoDB database for painless retrieval. Lets define some functions for loading the pages as json below."
   ]
  },
  {
   "cell_type": "code",
   "execution_count": 3,
   "metadata": {
    "collapsed": true
   },
   "outputs": [],
   "source": [
    "def getMongoDBClient(mongoUrl, port):\n",
    "    from pymongo import MongoClient\n",
    "    return MongoClient(mongoUrl, port)\n",
    "\n",
    "def load_pages(use_mongo=True):\n",
    "    # Load pages from disk/mongo\n",
    "    pages = None\n",
    "    print \"Loading pages from \" + \"mongoDB\" if use_mongo else \"filesystem\"\n",
    "    if (use_mongo):\n",
    "        mongoClient = getMongoDBClient(\"localhost\", 27017)\n",
    "        collection = mongoClient.local.pages\n",
    "\n",
    "        query = {\n",
    "            \"sections\": {\n",
    "                \"$exists\": True\n",
    "            }\n",
    "        }\n",
    "        cursor = collection.find(query)\n",
    "\n",
    "        pages = []\n",
    "        for doc in cursor:\n",
    "            pages.append(doc)\n",
    "    else:\n",
    "        # Read from filesystem\n",
    "        from modules.ONS.file_scanner import FileScanner\n",
    "        scanner = FileScanner()\n",
    "        pages = scanner.load_pages()\n",
    "    print \"Done\"\n",
    "    return pages"
   ]
  },
  {
   "cell_type": "code",
   "execution_count": 4,
   "metadata": {},
   "outputs": [
    {
     "name": "stdout",
     "output_type": "stream",
     "text": [
      "Loading pages from mongoDB\n",
      "Done\n",
      "Loaded 1960 pages\n"
     ]
    }
   ],
   "source": [
    "pages = load_pages(use_mongo=True)\n",
    "print \"Loaded %d pages\" % (len(pages))"
   ]
  },
  {
   "cell_type": "markdown",
   "metadata": {},
   "source": [
    "# Test processing\n",
    "To give our model the best chance of accurate classifications, we should clean up the raw text keywords to remove things like stop words etc. Below we define some basic utility functions to clean raw text, then process the pages we just loaded in."
   ]
  },
  {
   "cell_type": "code",
   "execution_count": 5,
   "metadata": {
    "collapsed": true
   },
   "outputs": [],
   "source": [
    "from gensim.utils import lemmatize\n",
    "from nltk.corpus import stopwords\n",
    "\n",
    "def get_stopwords():\n",
    "    return set(stopwords.words('english'))  # nltk stopwords list\n",
    "\n",
    "def get_bigram(train_texts):\n",
    "    import gensim\n",
    "    bigram = gensim.models.Phrases(train_texts)  # for bigram collocation detection\n",
    "    return bigram\n",
    "\n",
    "def build_texts_from_file(fname):\n",
    "    import gensim\n",
    "    \"\"\"\n",
    "    Function to build tokenized texts from file\n",
    "    \n",
    "    Parameters:\n",
    "    ----------\n",
    "    fname: File to be read\n",
    "    \n",
    "    Returns:\n",
    "    -------\n",
    "    yields preprocessed line\n",
    "    \"\"\"\n",
    "    with open(fname) as f:\n",
    "        for line in f:\n",
    "            yield gensim.utils.simple_preprocess(line, deacc=True, min_len=3)\n",
    "\n",
    "def build_texts_as_list_from_file(fname):\n",
    "    return list(build_texts_from_file(fname))\n",
    "\n",
    "def build_texts(texts):\n",
    "    import gensim\n",
    "    \"\"\"\n",
    "    Function to build tokenized texts from file\n",
    "    \n",
    "    Parameters:\n",
    "    ----------\n",
    "    fname: File to be read\n",
    "    \n",
    "    Returns:\n",
    "    -------\n",
    "    yields preprocessed line\n",
    "    \"\"\"\n",
    "    for line in texts:\n",
    "        yield gensim.utils.simple_preprocess(line, deacc=True, min_len=3)\n",
    "\n",
    "def build_texts_as_list(texts):\n",
    "    return list(build_texts(texts))\n",
    "\n",
    "def process_texts(texts, stops=get_stopwords()):\n",
    "    \"\"\"\n",
    "    Function to process texts. Following are the steps we take:\n",
    "    \n",
    "    1. Stopword Removal.\n",
    "    2. Collocation detection.\n",
    "    3. Lemmatization (not stem since stemming can reduce the interpretability).\n",
    "    \n",
    "    Parameters:\n",
    "    ----------\n",
    "    texts: Tokenized texts.\n",
    "    \n",
    "    Returns:\n",
    "    -------\n",
    "    texts: Pre-processed tokenized texts.\n",
    "    \"\"\"\n",
    "    bigram = get_bigram(texts)\n",
    "\n",
    "    texts = [[word for word in line if word not in stops] for line in texts]\n",
    "    texts = [bigram[line] for line in texts]\n",
    "    \n",
    "    from nltk.stem import WordNetLemmatizer\n",
    "    lemmatizer = WordNetLemmatizer()\n",
    "\n",
    "    texts = [[word for word in lemmatizer.lemmatize(' '.join(line), pos='v').split()] for line in texts]\n",
    "    return texts"
   ]
  },
  {
   "cell_type": "code",
   "execution_count": 6,
   "metadata": {
    "collapsed": true
   },
   "outputs": [],
   "source": [
    "import os, re\n",
    "\n",
    "ons_ft = gensim.models.KeyedVectors.load_word2vec_format(\"models/ons_ft.vec\")\n",
    "\n",
    "def parse_corpus(content, stop=None):\n",
    "    # Convert 'content' into properly formatted text corpus with stop word removal\n",
    "\n",
    "#     print \"Parsing text corpus...\"\n",
    "\n",
    "    stop = get_stopwords()\n",
    "    texts = build_texts_as_list(content)\n",
    "    texts = process_texts(texts, stops=stop)\n",
    "\n",
    "#     print \"Done\"\n",
    "    return texts\n",
    "\n",
    "def generate_corpus(pages):\n",
    "    # Gather some human written text into 'content'\n",
    "    import markdown\n",
    "    from string import punctuation\n",
    "    from bs4 import BeautifulSoup\n",
    "    from nltk.tokenize import sent_tokenize\n",
    "\n",
    "    print \"Generating text corpus...\"\n",
    "\n",
    "    pattern = \"[, \\-!?:]+\"\n",
    "\n",
    "    fix_encoding = lambda s: s.decode('utf8', 'ignore')\n",
    "\n",
    "    def strip_punctuation(s):\n",
    "        return ''.join(c for c in s if c not in punctuation)\n",
    "\n",
    "    def markdown_to_text(md):\n",
    "        extensions = ['extra', 'smarty']\n",
    "        html = markdown.markdown(md, extensions=extensions, output_format='html5')\n",
    "        soup = BeautifulSoup(html, \"lxml\")\n",
    "        return soup.text\n",
    "    \n",
    "    def get_keywords(description):\n",
    "        keywords = []\n",
    "        for keyword in description[\"keywords\"]:\n",
    "            keyword = keyword.lower().strip().replace(\" \" , \"_\")\n",
    "            if \",\" in keyword:\n",
    "                keywords.extend([k.lower().strip().replace(\" \" , \"_\") for k in keyword.split(\",\")])\n",
    "            else:\n",
    "                keywords.append(keyword)\n",
    "        return keywords\n",
    "    \n",
    "    def proceed(page):\n",
    "        if \"description\" in page \\\n",
    "                and \"keywords\" in page[\"description\"] \\\n",
    "                and len(page[\"description\"][\"keywords\"]) > 0:\n",
    "#             for keyword in get_keywords(page[\"description\"]):\n",
    "#                 valid = re.match('^[\\w-]+$', keyword) is not None\n",
    "#                 if not valid:\n",
    "#                     return False\n",
    "#                 if keyword not in ons_ft.wv.vocab:\n",
    "#                     return False\n",
    "            return True\n",
    "        return False\n",
    "    \n",
    "    def process_text(text, corpus, min_sent_length=4):\n",
    "        sentences = sent_tokenize(text)\n",
    "        for sentence in sentences:\n",
    "            tokens = sentence.split()\n",
    "            if len(tokens) >= min_sent_length:\n",
    "                doc = {\"text\": sentence, \"keywords\": keywords}        \n",
    "                corpus.append(doc)\n",
    "                \n",
    "    from progressbar import ProgressBar\n",
    "    pbar = ProgressBar()\n",
    "\n",
    "    corpus = []\n",
    "    for page in pbar(pages):\n",
    "        if proceed(page):\n",
    "            description = page[\"description\"]\n",
    "            keywords = get_keywords(description)\n",
    "            \n",
    "            text = description[\"title\"]\n",
    "#             process_text(text, corpus)\n",
    "                \n",
    "            if \"summary\" in description:\n",
    "                text = description[\"summary\"]\n",
    "                process_text(text, corpus)\n",
    "            if \"sections\" in page:\n",
    "                for section in page[\"sections\"]:\n",
    "                    if \"title\" in section:\n",
    "                        text = section[\"title\"]\n",
    "                        process_text(text, corpus)\n",
    "                    if \"markdown\" in section:\n",
    "                        text = markdown_to_text(section[\"markdown\"])\n",
    "                        process_text(text, corpus)\n",
    "                \n",
    "            \n",
    "    print \"Done\"\n",
    "    return corpus"
   ]
  },
  {
   "cell_type": "code",
   "execution_count": 7,
   "metadata": {},
   "outputs": [
    {
     "name": "stdout",
     "output_type": "stream",
     "text": [
      "Generating text corpus...\n"
     ]
    },
    {
     "name": "stderr",
     "output_type": "stream",
     "text": [
      "100% |########################################################################|\n"
     ]
    },
    {
     "name": "stdout",
     "output_type": "stream",
     "text": [
      "Done\n",
      "232647\n"
     ]
    }
   ],
   "source": [
    "import pickle\n",
    "import numpy as np\n",
    "do_load=False\n",
    "\n",
    "if do_load:\n",
    "    with open(\"./raw_corpus.p\", \"rb\") as f:\n",
    "        corpus = pickle.load(f)\n",
    "else:\n",
    "    corpus = generate_corpus(pages)\n",
    "    pickle.dump(np.array(corpus), open(\"./raw_corpus.p\", \"wb\"))\n",
    "print len(corpus)"
   ]
  },
  {
   "cell_type": "markdown",
   "metadata": {},
   "source": [
    "# Writing the training set\n",
    "The final step is to write the training data out in the correct format. We prepend a prefix to each label, so the classifier knows how to identify them aside from the raw text corpus."
   ]
  },
  {
   "cell_type": "code",
   "execution_count": 8,
   "metadata": {
    "collapsed": true
   },
   "outputs": [],
   "source": [
    "# import random\n",
    "\n",
    "# random.shuffle(corpus)\n",
    "\n",
    "# stops = []\n",
    "\n",
    "# token_threshold = 20\n",
    "\n",
    "# size_train = int(np.round(len(corpus) * (3./4.)))\n",
    "# train_corpus = corpus[:size_train]\n",
    "# valid_corpus = corpus[size_train:]\n",
    "\n",
    "# with open(\"train.txt\", \"w\") as f:\n",
    "#     for i in range(len(train_corpus)):\n",
    "#         text = train_corpus[i][\"text\"].strip()\n",
    "#         text = process_texts([text.split()], stops=stops)[0]\n",
    "        \n",
    "#         ntokens = len(text)\n",
    "        \n",
    "#         if ntokens > token_threshold:\n",
    "#             text = \" \".join(text)\n",
    "#             if text.endswith(\".\") is False:\n",
    "#                 text += \" <eos>\"\n",
    "#             else:\n",
    "#                 text = \"%s <eos>\" % text[:-1]\n",
    "\n",
    "#             s = re.sub( '\\s+', ' ', text.encode(\"ascii\", \"ignore\") ).strip()\n",
    "#             if i < len(train_corpus) - 1:\n",
    "#                 s = \"%s\\n\" % s\n",
    "#             f.write(s)\n",
    "        \n",
    "\n",
    "# with open(\"valid.txt\", \"w\") as f:\n",
    "#     for i in range(len(valid_corpus)):\n",
    "#         text = valid_corpus[i][\"text\"].strip()\n",
    "#         text = process_texts([text.split()], stops=stops)[0]\n",
    "        \n",
    "#         ntokens = len(text)\n",
    "        \n",
    "#         if ntokens > token_threshold:\n",
    "#             text = \" \".join(text)\n",
    "#             if text.endswith(\".\") is False:\n",
    "#                 text += \" <eos>\"\n",
    "#             else:\n",
    "#                 text = \"%s <eos>\" % text[:-1]\n",
    "\n",
    "#             s = re.sub( '\\s+', ' ', text.encode(\"ascii\", \"ignore\") ).strip()\n",
    "#             if i < len(valid_corpus) - 1:\n",
    "#                 s = \"%s\\n\" % s\n",
    "#             f.write(s)\n",
    "        \n",
    "# !cp train.txt test.txt"
   ]
  },
  {
   "cell_type": "code",
   "execution_count": 19,
   "metadata": {},
   "outputs": [
    {
     "name": "stderr",
     "output_type": "stream",
     "text": [
      "100% |########################################################################|\n"
     ]
    }
   ],
   "source": [
    "stops = []\n",
    "\n",
    "from progressbar import ProgressBar\n",
    "pbar = ProgressBar()\n",
    "\n",
    "with open(\"./ons_corpus.txt\", \"w\") as f:\n",
    "    for d in pbar(corpus):\n",
    "        text = d[\"text\"].strip()\n",
    "        s = re.sub( '\\s+', ' ', text.encode(\"ascii\", \"ignore\") ).strip()\n",
    "        s = s.split()\n",
    "        if len(s) > 10:\n",
    "            s = process_texts([s], stops=stops)[0]\n",
    "            s = \" \".join(s)\n",
    "            \n",
    "            if s.endswith(\".\") is False:\n",
    "                s = s + \".\"\n",
    "        \n",
    "            f.write(s + \"\\n\")\n",
    "        "
   ]
  },
  {
   "cell_type": "code",
   "execution_count": 9,
   "metadata": {},
   "outputs": [
    {
     "name": "stdout",
     "output_type": "stream",
     "text": [
      "Processing 232647 items in corpus\n"
     ]
    },
    {
     "name": "stderr",
     "output_type": "stream",
     "text": [
      "/Users/sullid/anaconda2/lib/python2.7/site-packages/gensim/models/phrases.py:486: UserWarning: For a faster implementation, use the gensim.models.phrases.Phraser class\n",
      "  warnings.warn(\"For a faster implementation, use the gensim.models.phrases.Phraser class\")\n",
      "100% |########################################################################|\n"
     ]
    }
   ],
   "source": [
    "# stops = get_stopwords()\n",
    "# stops.append(\".\")\n",
    "stops = []\n",
    "\n",
    "def label_sentence(text, labels, label_prefix=\"__label__\"):\n",
    "    \n",
    "    try:\n",
    "        labels = filter(None, process_texts([labels], stops=stops))[0]\n",
    "        labels = [l for l in labels if l in ons_ft.wv.vocab]\n",
    "\n",
    "        if len(labels) > 0:\n",
    "            labels = set( [\"%s%s\" % (label_prefix, l) for l in labels] )\n",
    "            joined_labels = \" \".join(labels)\n",
    "\n",
    "            text = process_texts([text.split()], stops=stops)[0]\n",
    "            text = \" \".join(text)\n",
    "            if text.endswith(\".\") is False:\n",
    "                text += \".\"\n",
    "\n",
    "            return \"%s %s\" % (joined_labels, text)\n",
    "    except IndexError as e:\n",
    "        pass\n",
    "    return None\n",
    "\n",
    "print \"Processing %d items in corpus\" % len(corpus)\n",
    "\n",
    "from progressbar import ProgressBar\n",
    "pbar = ProgressBar()\n",
    "\n",
    "lines = []\n",
    "for d in pbar(corpus):\n",
    "    text = d[\"text\"].strip()\n",
    "    keywords = d[\"keywords\"]\n",
    "    line = label_sentence(text, keywords)\n",
    "    if line is not None:\n",
    "        lines.append(line.lower())\n",
    "    \n",
    "# Shuffle the list\n",
    "import random\n",
    "random.shuffle(lines)"
   ]
  },
  {
   "cell_type": "code",
   "execution_count": 10,
   "metadata": {},
   "outputs": [
    {
     "name": "stdout",
     "output_type": "stream",
     "text": [
      "222726\n",
      "__label__debt_burden __label__pension individuals aged 35 to 44 indicating that they have the heaviest debt burden (22.8%) and the highest reports of somewhat of a burden (38.9%).\n"
     ]
    }
   ],
   "source": [
    "print len(lines)\n",
    "print lines[0]"
   ]
  },
  {
   "cell_type": "markdown",
   "metadata": {},
   "source": [
    "# Training and Validation Data\n",
    "In order to test the accuracy of our model, we purposely keep part of the training data back as a validation dataset by splitting the corpus into two files, with extendions \".train\" and \".valid\"."
   ]
  },
  {
   "cell_type": "code",
   "execution_count": 12,
   "metadata": {},
   "outputs": [
    {
     "name": "stdout",
     "output_type": "stream",
     "text": [
      "167044\n",
      "55682\n",
      "Corpa written to file.\n"
     ]
    }
   ],
   "source": [
    "import numpy as np\n",
    "\n",
    "def write_corpus(full_corpus, prefix):\n",
    "    \"\"\"\n",
    "    Splits the corpus into training (.train) and validation (.valid) datasets\n",
    "    \"\"\"    \n",
    "    size_train = int(np.round(len(full_corpus) * (3./4.)))\n",
    "    train_corpus = full_corpus[:size_train]\n",
    "    valid_corpus = full_corpus[size_train:]\n",
    "    \n",
    "    print len(train_corpus)\n",
    "    print len(valid_corpus)\n",
    "    \n",
    "    extensions = [\".train\", \".valid\", \"\"]\n",
    "    corpa = [train_corpus, valid_corpus, full_corpus]\n",
    "    \n",
    "    for ext, cps in zip(extensions, corpa):\n",
    "        fname = \"%s_labelled.txt%s\" % (prefix, ext)\n",
    "        with open(fname, \"w\") as f:\n",
    "            for s in cps:\n",
    "                if len(s) > 0:\n",
    "                    s = re.sub( '\\s+', ' ', s.encode(\"ascii\", \"ignore\") ).strip()\n",
    "                    f.write(\"%s\\n\" % s)\n",
    "\n",
    "# if os.path.isfile(corpus_fname) is False:\n",
    "write_corpus(lines, \"ons\")\n",
    "print \"Corpa written to file.\""
   ]
  },
  {
   "cell_type": "code",
   "execution_count": null,
   "metadata": {
    "collapsed": true
   },
   "outputs": [],
   "source": [
    "# Train the model\n",
    "import fastText\n",
    "print \"Training...\"\n",
    "model = fastText.train_supervised(input=\"ons_labelled.txt.train\", label=\"__label__\",\\\n",
    "                          dim=300, epoch=1000, wordNgrams=2, verbose=2, minCount=15,\\\n",
    "                          minCountLabel=5, lr=0.1, neg=10, thread=16, loss=\"ns\", t=1e-5)\n",
    "model.save_model(\"models/ons_supervised.bin\")\n",
    "print \"Done\""
   ]
  },
  {
   "cell_type": "markdown",
   "metadata": {},
   "source": [
    "# Testing\n",
    "To test the model, we use the validation training set to try and predict the top 'k' labels. The output of the below test are the precision at k=1 (P@1) and the recall at k=1 (R@1):"
   ]
  },
  {
   "cell_type": "code",
   "execution_count": 1,
   "metadata": {
    "collapsed": true
   },
   "outputs": [],
   "source": [
    "import fastText\n",
    "\n",
    "model = fastText.load_model(\"models/ons_supervised.bin\")"
   ]
  },
  {
   "cell_type": "code",
   "execution_count": null,
   "metadata": {
    "collapsed": true
   },
   "outputs": [],
   "source": [
    "# Test the model\n",
    "k=1\n",
    "N, P, R = model.test(\"ons_labelled.txt.valid\", k)\n",
    "print \"Total number of samples=\", N\n",
    "print \"P@%d=\" % k, P\n",
    "print \"R@%d=\" % k, R"
   ]
  },
  {
   "cell_type": "markdown",
   "metadata": {},
   "source": [
    "We can also compute the precision and recall at k=5 with:"
   ]
  },
  {
   "cell_type": "code",
   "execution_count": null,
   "metadata": {
    "collapsed": true
   },
   "outputs": [],
   "source": [
    "# Test the model\n",
    "k=5\n",
    "N, P, R = model.test(\"ons_labelled.txt.valid\", k)\n",
    "print \"Total number of samples=\", N\n",
    "print \"P@%d=\" % k, P\n",
    "print \"R@%d=\" % k, R"
   ]
  },
  {
   "cell_type": "code",
   "execution_count": null,
   "metadata": {
    "collapsed": true
   },
   "outputs": [],
   "source": [
    "# Test the model\n",
    "k=10\n",
    "N, P, R = model.test(\"ons_labelled.txt.valid\", k)\n",
    "print \"Total number of samples=\", N\n",
    "print \"P@%d=\" % k, P\n",
    "print \"R@%d=\" % k, R"
   ]
  },
  {
   "cell_type": "code",
   "execution_count": null,
   "metadata": {
    "collapsed": true
   },
   "outputs": [],
   "source": [
    "# Example output\n",
    "k = 10\n",
    "label_prefix = \"__label__\"\n",
    "labels, probs = model.predict(\"UKs shortfall to Germany\".lower(), k)\n",
    "for label,prob in zip(labels, probs):\n",
    "    print \"%s:%f\" % (label.replace(label_prefix, \"\"), prob)"
   ]
  },
  {
   "cell_type": "code",
   "execution_count": 2,
   "metadata": {
    "collapsed": true
   },
   "outputs": [],
   "source": [
    "# Reduce memory usage of model and save\n",
    "\n",
    "# Use PCA to reduce size of input and output matricies\n",
    "from sklearn import decomposition\n",
    "pca = decomposition.PCA(n_components=50)\n",
    "\n",
    "im = model.get_input_matrix()\n",
    "om = model.get_output_matrix()\n",
    "\n",
    "pca_fit_im = pca.fit(im)\n",
    "im_transformed = pca_fit_im.transform(im)\n",
    "\n",
    "pca_fit_om = pca.fit(om)\n",
    "om_transformed = pca_fit_om.transform(om)\n",
    "\n",
    "for fname, arr in zip([\"ons_supervised_quantized.bin.im_reduced\", \"ons_supervised_quantized.bin.om_reduced\"], [im_transformed, om_transformed]):\n",
    "    with open(fname, \"wb\") as f:\n",
    "        arr.dump(f)\n",
    "\n",
    "model.quantize()\n",
    "model.save_model(\"models/ons_supervised_quantized.bin\")"
   ]
  },
  {
   "cell_type": "code",
   "execution_count": 5,
   "metadata": {
    "collapsed": true
   },
   "outputs": [],
   "source": [
    "import pickle\n",
    "with open(\"ons_supervised_quantized.bin.im_pca\", \"wb\") as f:\n",
    "    pickle.dump(pca_fit_im, f)\n",
    "    \n",
    "with open(\"ons_supervised_quantized.bin.om_pca\", \"wb\") as f:\n",
    "    pickle.dump(pca_fit_om, f)"
   ]
  },
  {
   "cell_type": "markdown",
   "metadata": {},
   "source": [
    "# Conclusions\n",
    "In this notebook, we have successfully trained a model which can predict ONS keywords from raw text, using published articles and bulletins for supervised training. Such a model can be used to recommend keywords based on raw, human written, text input or even classify search terms into keyword categories."
   ]
  },
  {
   "cell_type": "code",
   "execution_count": 1,
   "metadata": {
    "collapsed": true
   },
   "outputs": [],
   "source": [
    "import fastText\n",
    "\n",
    "model = fastText.load_model(\"models/ons_supervised.bin\")"
   ]
  },
  {
   "cell_type": "code",
   "execution_count": 2,
   "metadata": {
    "collapsed": true
   },
   "outputs": [],
   "source": [
    "import numpy as np\n",
    "\n",
    "words = model.get_labels()\n",
    "norm = lambda vec: vec / np.linalg.norm(vec)\n",
    "\n",
    "om = model.get_output_matrix()\n",
    "word_vectors = np.zeros(om.shape)\n",
    "for i in range(len(om)):\n",
    "    word_vectors[i] = norm(om[i])"
   ]
  },
  {
   "cell_type": "code",
   "execution_count": 46,
   "metadata": {},
   "outputs": [
    {
     "name": "stdout",
     "output_type": "stream",
     "text": [
      "(1.0, u'__label__gdp')\n",
      "(0.5799029683224861, u'__label__unit')\n",
      "(0.53219564271997, u'__label__investment')\n",
      "(0.527457115069589, u'__label__sectors')\n",
      "(0.507968012949438, u'__label__brazil')\n",
      "(0.5021528824242844, u'__label__output')\n",
      "(0.5017086959446281, u'__label__growths')\n",
      "(0.4884507690957247, u'__label__annual')\n",
      "(0.4837299025589181, u'__label__international_comparisons')\n",
      "(0.4527872163462047, u'__label__recreation')\n",
      "(0.4477983338894497, u'__label__per')\n",
      "(0.4476581784113353, u'__label__sport')\n",
      "(0.4467532841136419, u'__label__hour')\n",
      "(0.4461745364758096, u'__label__mbs')\n",
      "(0.4304655989237989, u'__label__labour')\n",
      "(0.41896423913067865, u'__label__trade')\n",
      "(0.41696726450555627, u'__label__oecd')\n",
      "(0.3973072457027024, u'__label__precious_metals')\n",
      "(0.39129522577894055, u'__label__valuables')\n",
      "(0.39017144490078787, u'__label__gcf')\n"
     ]
    }
   ],
   "source": [
    "from scipy.spatial.distance import euclidean\n",
    "\n",
    "def cosine_sim(vec1, vec2):\n",
    "    \"\"\"\n",
    "    Computes the cosine similarity between two vectors\n",
    "    :param vec1:\n",
    "    :param vec2:\n",
    "    :return:\n",
    "    \"\"\"\n",
    "    cos_sim = np.dot(vec1, vec2) / (np.linalg.norm(vec1) * np.linalg.norm(vec2))\n",
    "    return cos_sim\n",
    "\n",
    "def cosine_sim2(vec1, vec2):\n",
    "    \"\"\"\n",
    "    Computes the cosine similarity between two vectors\n",
    "    :param vec1:\n",
    "    :param vec2:\n",
    "    :return:\n",
    "    \"\"\"\n",
    "    cos_sim = [np.dot(v1, v2) / (np.linalg.norm(v1) * np.linalg.norm(v2)) for v1,v2 in zip(vec1, vec2)]\n",
    "    return np.array(cos_sim)\n",
    "\n",
    "ix_gdp = np.where(np.array(words) == \"__label__gdp\")\n",
    "vec1 = norm(word_vectors[ix_gdp])\n",
    "d = np.zeros(len(word_vectors))\n",
    "for i,vec in enumerate(word_vectors):\n",
    "    d[i] = cosine_sim(vec1, vec)\n",
    "#     d[i] = euclidean(vec1, vec)\n",
    "    \n",
    "top_n = 20\n",
    "top_labels = sorted(zip(d, words), reverse=True)[:top_n]\n",
    "for top_label in top_labels:\n",
    "    print top_label"
   ]
  },
  {
   "cell_type": "code",
   "execution_count": 47,
   "metadata": {},
   "outputs": [
    {
     "name": "stdout",
     "output_type": "stream",
     "text": [
      "Performing K-Means...\n",
      "Done\n",
      "Computing Euclidean distances...\n",
      "Done\n",
      "Computing pairwise distances...\n",
      "Computing percentage of variance explained...\n",
      "Plotting...\n",
      "Minimum number of clusters =  3\n"
     ]
    },
    {
     "name": "stderr",
     "output_type": "stream",
     "text": [
      "/Users/sullid/anaconda2/lib/python2.7/site-packages/ipykernel_launcher.py:54: RuntimeWarning:\n",
      "\n",
      "invalid value encountered in greater\n",
      "\n"
     ]
    },
    {
     "data": {
      "image/png": "[encoded data removed]",
      "text/plain": [
       "<matplotlib.figure.Figure at 0x10b15dbd0>"
      ]
     },
     "metadata": {},
     "output_type": "display_data"
    }
   ],
   "source": [
    "from sklearn.metrics.pairwise import cosine_similarity\n",
    "def new_euclidean_distances(X, Y=None, Y_norm_squared=None, squared=False): \n",
    "    return cosine_sim2(X, Y)\n",
    "\n",
    "# monkey patch (ensure cosine dist function is used)\n",
    "from sklearn.cluster import k_means_\n",
    "k_means_.euclidean_distances = new_euclidean_distances\n",
    "\n",
    "import matplotlib.pyplot as plt\n",
    "import seaborn\n",
    "from sklearn.cluster import KMeans\n",
    "from scipy.spatial.distance import cdist, pdist\n",
    "from sklearn.metrics.pairwise import pairwise_distances\n",
    "from scipy.cluster.hierarchy import fclusterdata\n",
    "\n",
    "def eblow(data, n):\n",
    "    print \"Performing K-Means...\"\n",
    "    kMeansVar = [KMeans(n_clusters=k, random_state=0).fit(data) for k in range(1, n)]\n",
    "    print \"Done\"\n",
    "    centroids = [X.cluster_centers_ for X in kMeansVar]\n",
    "    print \"Computing Euclidean distances...\"\n",
    "    k_euclid = [cdist(data, cent) for cent in centroids]\n",
    "    dist = [np.min(ke, axis=1) for ke in k_euclid]\n",
    "    avgWithinSS = [sum(d)/data.shape[0] for d in dist]\n",
    "    print \"Done\"\n",
    "    wcss = [sum(d**2) for d in dist]\n",
    "    print \"Computing pairwise distances...\"\n",
    "    pair_dist = pdist(data)\n",
    "    print \"Computing percentage of variance explained...\"\n",
    "    tss = sum(pair_dist**2)/data.shape[0]\n",
    "    bss = tss - wcss\n",
    "    percentage_variance = (bss/tss)*100.0\n",
    "    \n",
    "    K = range(1,n)\n",
    "    seg_threshold = 0.95 #Set this to your desired target\n",
    "\n",
    "    #The angle between three points\n",
    "    def segments_gain(p1, v, p2):\n",
    "        vp1 = np.linalg.norm(p1 - v)\n",
    "        vp2 = np.linalg.norm(p2 - v)\n",
    "        p1p2 = np.linalg.norm(p1 - p2)\n",
    "        return np.arccos((vp1**2 + vp2**2 - p1p2**2) / (2 * vp1 * vp2)) / np.pi\n",
    "\n",
    "    #Normalize the data\n",
    "    criterion = np.array(avgWithinSS)\n",
    "    criterion = (criterion - criterion.min()) / (criterion.max() - criterion.min())\n",
    "\n",
    "    #Compute the angles\n",
    "    seg_gains = np.array([0, ] + [segments_gain(*\n",
    "            [np.array([K[j], criterion[j]]) for j in range(i-1, i+2)]\n",
    "        ) for i in range(len(K) - 2)] + [np.nan, ])\n",
    "\n",
    "    #Get the first index satisfying the threshold\n",
    "    kIdx = np.argmax(seg_gains > seg_threshold)\n",
    "    \n",
    "    print \"Plotting...\"\n",
    "    fig, ax = plt.subplots(figsize=(8, 8))\n",
    "    ax.plot(K[kIdx], percentage_variance[kIdx], marker='o', markersize=12, \n",
    "        markeredgewidth=2, markeredgecolor='r', markerfacecolor='None')\n",
    "    \n",
    "    ax.scatter(K, percentage_variance, color='b')\n",
    "    ax.plot(K, percentage_variance, color='b')\n",
    "    \n",
    "    ax.set_xlabel(\"Number of Clusters\", fontsize=12)\n",
    "    ax.set_ylabel(\"Percentage of Variance Explained [%]\", fontsize=12)\n",
    "    \n",
    "    print \"Minimum number of clusters = \", K[kIdx]\n",
    "    \n",
    "    return kMeansVar\n",
    "    \n",
    "kMeansVar = eblow(word_vectors, 31)\n",
    "plt.show()"
   ]
  },
  {
   "cell_type": "code",
   "execution_count": 48,
   "metadata": {
    "collapsed": true
   },
   "outputs": [],
   "source": [
    "import plotly.plotly as py\n",
    "import plotly.graph_objs as go\n",
    "from plotly import tools\n",
    "\n",
    "def matplotlib_to_plotly(cmap, pl_entries):\n",
    "    h = 1.0/(pl_entries-1)\n",
    "    pl_colorscale = []\n",
    "    \n",
    "    for k in range(pl_entries):\n",
    "        C = map(np.uint8, np.array(cmap(k*h)[:3])*255)\n",
    "        pl_colorscale.append([k*h, 'rgb'+str((C[0], C[1], C[2]))])\n",
    "        \n",
    "    return pl_colorscale\n",
    "\n",
    "def ncols(NUM_COLORS, cmap='gist_rainbow'):\n",
    "    import matplotlib.cm as mplcm\n",
    "    import matplotlib.colors as colors\n",
    "    \n",
    "    cm = plt.get_cmap(cmap)\n",
    "    cNorm  = colors.Normalize(vmin=0, vmax=NUM_COLORS-1)\n",
    "    scalarMap = mplcm.ScalarMappable(norm=cNorm, cmap=cm)\n",
    "    return scalarMap"
   ]
  },
  {
   "cell_type": "code",
   "execution_count": 49,
   "metadata": {},
   "outputs": [
    {
     "name": "stdout",
     "output_type": "stream",
     "text": [
      "798 798\n"
     ]
    },
    {
     "data": {
      "text/html": [
       "<iframe id=\"igraph\" scrolling=\"no\" style=\"border:none;\" seamless=\"seamless\" src=\"https://plot.ly/~Sully0190/6.embed\" height=\"900px\" width=\"900px\"></iframe>"
      ],
      "text/plain": [
       "<plotly.tools.PlotlyDisplay object>"
      ]
     },
     "execution_count": 49,
     "metadata": {},
     "output_type": "execute_result"
    }
   ],
   "source": [
    "import matplotlib.pyplot as plt\n",
    "import seaborn\n",
    "from sklearn.cluster import KMeans\n",
    "from scipy.spatial.distance import cdist, pdist\n",
    "from sklearn.metrics.pairwise import pairwise_distances\n",
    "from scipy.cluster.hierarchy import fclusterdata\n",
    "from sklearn import decomposition\n",
    "\n",
    "def cosine_sim(vec1, vec2):\n",
    "    \"\"\"\n",
    "    Computes the cosine similarity between two vectors\n",
    "    :param vec1:\n",
    "    :param vec2:\n",
    "    :return:\n",
    "    \"\"\"\n",
    "    cos_sim = np.dot(vec1, vec2) / (np.linalg.norm(vec1) * np.linalg.norm(vec2))\n",
    "    return cos_sim\n",
    "\n",
    "kOpt = 10\n",
    "pca3 = decomposition.PCA(n_components=3)\n",
    "pca_fit3 = pca3.fit(word_vectors)\n",
    "X = pca_fit3.transform(word_vectors)\n",
    "words = model.get_labels()\n",
    "\n",
    "print len(words), len(word_vectors)\n",
    "\n",
    "NUM_COLORS = kOpt+1\n",
    "scalarMap = ncols(NUM_COLORS, cmap=\"jet\")\n",
    "\n",
    "fig = tools.make_subplots(rows=1, cols=1,\n",
    "                          print_grid=False,\n",
    "                          specs=[[{'is_3d': True}]])\n",
    "\n",
    "def similarity(word1, word2, model):\n",
    "    w1 = model.get_word_vector(word1)\n",
    "    w2 = model.get_word_vector(word2)\n",
    "    return cosine_sim(w1, w2)\n",
    "\n",
    "scene = dict(\n",
    "    camera = dict(\n",
    "    up=dict(x=0, y=0, z=1),\n",
    "    center=dict(x=0, y=0, z=0),\n",
    "    eye=dict(x=2.5, y=0.1, z=0.1)\n",
    "    ),\n",
    "    xaxis=dict(title='pc1',\n",
    "        gridcolor='rgb(255, 255, 255)',\n",
    "        zerolinecolor='rgb(255, 255, 255)',\n",
    "        showbackground=True,\n",
    "        backgroundcolor='rgb(230, 230,230)',\n",
    "        showticklabels=False, ticks=''\n",
    "    ),\n",
    "    yaxis=dict(title='pc2',\n",
    "        gridcolor='rgb(255, 255, 255)',\n",
    "        zerolinecolor='rgb(255, 255, 255)',\n",
    "        showbackground=True,\n",
    "        backgroundcolor='rgb(230, 230,230)',\n",
    "        showticklabels=False, ticks=''\n",
    "    ),\n",
    "    zaxis=dict(title='pc3',\n",
    "        gridcolor='rgb(255, 255, 255)',\n",
    "        zerolinecolor='rgb(255, 255, 255)',\n",
    "        showbackground=True,\n",
    "        backgroundcolor='rgb(230, 230,230)',\n",
    "        showticklabels=False, ticks=''\n",
    "    )\n",
    ")\n",
    "\n",
    "name,est = ('k_means', KMeans(n_clusters=kOpt, random_state=0).fit(word_vectors))\n",
    "vector_idx = est.fit_predict(word_vectors)\n",
    "\n",
    "cols = [scalarMap.to_rgba(i) for i in range(NUM_COLORS)]\n",
    "\n",
    "# Add cluster centroids\n",
    "centroids = pca_fit3.transform(est.cluster_centers_)\n",
    "# centroidNames = [\"Centroid %d\" % (i+1) for i in range(kOpt)]\n",
    "\n",
    "for icluster in range(kOpt):\n",
    "    idx = np.where(vector_idx == icluster)[0]\n",
    "    labels = est.labels_[idx]\n",
    "    data = X[idx]\n",
    "    \n",
    "    vec = est.cluster_centers_[icluster]\n",
    "    name=\"Centroid %d\" % icluster\n",
    "\n",
    "    text = []\n",
    "    for ix in idx:\n",
    "        text.append(words[ix])\n",
    "    pcols = [cols[icluster]] * len(idx)\n",
    "\n",
    "    trace = go.Scatter3d(x=data[:, 0], y=data[:, 1], z=data[:, 2],\n",
    "                         name=name,\n",
    "                         text=text,\n",
    "                         showlegend=True,\n",
    "                         mode='markers',\n",
    "                         marker=dict(\n",
    "                                color=pcols[:],\n",
    "                                line=dict(color='black', width=1)\n",
    "        ))\n",
    "    fig.append_trace(trace, 1, 1)\n",
    "    \n",
    "    centroidsTrace = go.Scatter3d(x=centroids[icluster, 0], y=centroids[icluster, 1], z=centroids[icluster, 2],\n",
    "                         name=name,\n",
    "                         text=\"Cluster %d\" % (icluster+1),\n",
    "                         showlegend=False,\n",
    "                         mode='markers',\n",
    "                         marker=dict(\n",
    "                                color=\"black\",\n",
    "                                line=dict(color='black', width=1)\n",
    "        ))\n",
    "    fig.append_trace(centroidsTrace, 1, 1)\n",
    "\n",
    "fig['layout'].update(height=900, width=900,\n",
    "                     margin=dict(l=10,r=10))\n",
    "\n",
    "fig['layout']['scene1'].update(scene)\n",
    "fig['layout']['scene2'].update(scene)\n",
    "fig['layout']['scene3'].update(scene)\n",
    "fig['layout']['scene4'].update(scene)\n",
    "fig['layout']['scene5'].update(scene)\n",
    "\n",
    "# Use py.iplot() for IPython notebook\n",
    "py.iplot(fig, filename='3d ONS point clustering')"
   ]
  },
  {
   "cell_type": "code",
   "execution_count": 34,
   "metadata": {},
   "outputs": [
    {
     "name": "stdout",
     "output_type": "stream",
     "text": [
      "5\n",
      "(array([  1,   5,   6,  10,  11,  12,  13,  48,  58,  69,  79,  87, 107,\n",
      "       135, 149, 167, 178, 183, 201, 208, 210, 211, 219, 256, 261, 292,\n",
      "       303, 308, 319, 368, 369, 405, 409, 422, 423, 469, 514, 549, 592,\n",
      "       600, 601, 602, 603, 618, 628, 664, 665, 666, 669, 690, 732, 733,\n",
      "       736, 742, 747, 749, 769, 771, 776]),)\n",
      "59 59\n"
     ]
    }
   ],
   "source": [
    "ix = np.where(np.array(words) == \"__label__gdp\")\n",
    "\n",
    "gdp_cluster = vector_idx[ix][0]\n",
    "print gdp_cluster\n",
    "\n",
    "cluster_words_ix = np.where(vector_idx == gdp_cluster)\n",
    "print cluster_words_ix\n",
    "cluster_words = np.array(words)[cluster_words_ix]\n",
    "cluster_vecs = np.array(word_vectors)[cluster_words_ix]\n",
    "print len(cluster_words), len(cluster_vecs)"
   ]
  },
  {
   "cell_type": "code",
   "execution_count": 50,
   "metadata": {},
   "outputs": [
    {
     "name": "stdout",
     "output_type": "stream",
     "text": [
      "__label__gdp\n",
      "__label__wages\n",
      "__label__inflation\n",
      "__label__work\n",
      "__label__claimants\n",
      "__label__jobless\n",
      "__label__salaries\n",
      "__label__productivity\n",
      "__label__output\n",
      "__label__capital\n",
      "__label__income\n",
      "__label__qali\n",
      "__label__trade\n",
      "__label__students\n",
      "__label__healthcare\n",
      "__label__growth\n",
      "__label__mfp\n",
      "__label__housing\n",
      "__label__industrial\n",
      "__label__efficiency\n",
      "__label__building\n",
      "__label__vics\n",
      "__label__nhs\n",
      "__label__labour\n",
      "__label__commercial\n",
      "__label__stock\n",
      "__label__tables\n",
      "__label__opss\n",
      "__label__real_wages\n",
      "__label__ppp\n",
      "__label__oecd\n",
      "__label__unit\n",
      "__label__imputed_rental\n",
      "__label__flow\n",
      "__label__asset\n",
      "__label__leps\n",
      "__label__recession\n",
      "__label__living_standards\n",
      "__label__economic_downturn\n",
      "__label__solow\n",
      "__label__purchasing_power\n",
      "__label__employee\n",
      "__label__deflators\n",
      "__label__hospitals\n",
      "__label__workers\n",
      "__label__colleges\n",
      "__label__schools\n",
      "__label__fhs\n",
      "__label__teachers\n",
      "__label__awe\n",
      "__label__sub_regional\n",
      "__label__urban\n",
      "__label__devolution\n",
      "__label__taxes\n",
      "__label__per\n",
      "__label__hour\n",
      "__label__wage\n",
      "__label__preliminary_estimate\n",
      "__label__real_awe\n"
     ]
    }
   ],
   "source": [
    "for word in cluster_words:\n",
    "    print word"
   ]
  },
  {
   "cell_type": "code",
   "execution_count": null,
   "metadata": {
    "collapsed": true
   },
   "outputs": [],
   "source": []
  }
 ],
 "metadata": {
  "kernelspec": {
   "display_name": "Python 2",
   "language": "python",
   "name": "python2"
  },
  "language_info": {
   "codemirror_mode": {
    "name": "ipython",
    "version": 2
   },
   "file_extension": ".py",
   "mimetype": "text/x-python",
   "name": "python",
   "nbconvert_exporter": "python",
   "pygments_lexer": "ipython2",
   "version": "2.7.14"
  }
 },
 "nbformat": 4,
 "nbformat_minor": 2
}
